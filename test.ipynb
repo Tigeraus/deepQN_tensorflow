{
 "metadata": {
  "name": "",
  "signature": "sha256:7a308d6ca651313e7bbbc63f959e72f94dfb34951709d933e0040d396995da77"
 },
 "nbformat": 3,
 "nbformat_minor": 0,
 "worksheets": [
  {
   "cells": [
    {
     "cell_type": "code",
     "collapsed": false,
     "input": [
      "import tensorflow as tf\n",
      "import numpy as np\n",
      "import input_data\n",
      "from model import *\n",
      "from emulator import *\n",
      "from database import *\n",
      "import copy\n",
      "\n",
      "params = {\n",
      "  'epochs': 10,\n",
      "  'dictsize': 1000,\n",
      "  'bsize': 100\n",
      "}\n",
      "DB = database()\n",
      "engine = emulator('montezuma_revenge.bin')\n",
      "\n",
      "\n",
      "mnist = input_data.read_data_sets(\"MNIST_data/\", one_hot=True)\n",
      "trX, trY, teX, teY = mnist.train.images, mnist.train.labels, mnist.test.images, mnist.test.labels\n",
      "trX = trX.reshape(-1, 28, 28, 1)\n",
      "teX = teX.reshape(-1, 28, 28, 1)\n",
      "\n",
      "X = tf.placeholder(\"float\", [None, 28, 28, 1])\n",
      "Y = tf.placeholder(\"float\", [None, 10])\n",
      "reward = tf.placeholder(\"float\", [1])\n",
      "\n",
      "w = init_weights([3, 3, 1, 32] )\n",
      "w2 = init_weights([3, 3, 32, 64])\n",
      "w3 = init_weights([3, 3, 64, 128])\n",
      "w4 = init_weights([128 * 4 * 4, 625])\n",
      "w_o = init_weights([625, len(engine.possible_actions)])\n",
      "\n",
      "p_keep_conv = tf.placeholder(\"float\")\n",
      "p_keep_hidden = tf.placeholder(\"float\")\n",
      "py_x = model(X, w, w2, w3, w4, w_o, p_keep_conv, p_keep_hidden)\n"
     ],
     "language": "python",
     "metadata": {},
     "outputs": [
      {
       "output_type": "stream",
       "stream": "stdout",
       "text": [
        "Extracting MNIST_data/train-images-idx3-ubyte.gz\n",
        "Extracting"
       ]
      },
      {
       "output_type": "stream",
       "stream": "stdout",
       "text": [
        " MNIST_data/train-labels-idx1-ubyte.gz\n",
        "Extracting MNIST_data/t10k-images-idx3-ubyte.gz\n",
        "Extracting MNIST_data/t10k-labels-idx1-ubyte.gz\n"
       ]
      }
     ],
     "prompt_number": 1
    },
    {
     "cell_type": "code",
     "collapsed": false,
     "input": [
      "w1."
     ],
     "language": "python",
     "metadata": {},
     "outputs": [
      {
       "metadata": {},
       "output_type": "pyout",
       "prompt_number": 8,
       "text": [
        "<tensorflow.python.ops.variables.Variable at 0x7f5830073c90>"
       ]
      }
     ],
     "prompt_number": 8
    }
   ],
   "metadata": {}
  }
 ]
}